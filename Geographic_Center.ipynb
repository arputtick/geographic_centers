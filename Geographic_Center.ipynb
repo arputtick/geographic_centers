{
  "nbformat": 4,
  "nbformat_minor": 0,
  "metadata": {
    "colab": {
      "name": "Geographic_Center.ipynb",
      "provenance": [],
      "collapsed_sections": [],
      "authorship_tag": "ABX9TyMnEDobcO/OzWPgqB8yBiOR",
      "include_colab_link": true
    },
    "kernelspec": {
      "name": "python3",
      "display_name": "Python 3"
    }
  },
  "cells": [
    {
      "cell_type": "markdown",
      "metadata": {
        "id": "view-in-github",
        "colab_type": "text"
      },
      "source": [
        "<a href=\"https://colab.research.google.com/github/arputtick/geographic_centers/blob/master/Geographic_Center.ipynb\" target=\"_parent\"><img src=\"https://colab.research.google.com/assets/colab-badge.svg\" alt=\"Open In Colab\"/></a>"
      ]
    },
    {
      "cell_type": "markdown",
      "metadata": {
        "id": "29ZVVyn3Qn1o",
        "colab_type": "text"
      },
      "source": [
        "# Computing the Geographic Center of Białowieski Park Narodowy\n",
        "\n",
        "In this Jupyter Notebook, we apply the methods of [1] to compute the geographic center of Bialowieski Park Narodowy in Poland.\n",
        "\n",
        "The GitHub repository for the project can be found [here](https://github.com/arputtick/geographic_centers).\n",
        "\n",
        "---\n",
        "\n",
        "The method can be applied to any contingent landmass and can even be adapted for landmasses composed a several disconnected parts (see [1]).\n",
        "\n",
        "\n",
        "\n",
        "**Input:** Longitude and latitude coordinates of $n$ points on the border of the landmass (labeled clockwise from 0 to $n-1$). The points should be distributed along the entire border and $n$ should be large enough so that the polygon formed by connecting them is a good approximation of the shape of the landmass.\n",
        "\n",
        "**Output:** Approximation of the *geographic center* of the landmass. The geographic center is the point that is simultaneously as close as possible to all other points in the region.\n",
        "\n",
        "The main diffculty is that the landmass lies on the surface of a sphere. However, there are simple ways to compute the center of a flat 2D polygon. The idea is two find a good way to project from the sphere onto a flat plane so that the center of the resulting polygon is a good approximation of the center of the shape on the sphere surface.\n",
        "\n",
        "---\n",
        "\n",
        "We begin by installing and importing the relevant Python libraries:"
      ]
    },
    {
      "cell_type": "code",
      "metadata": {
        "id": "io1mBRgBEbzZ",
        "colab_type": "code",
        "colab": {
          "base_uri": "https://localhost:8080/",
          "height": 462
        },
        "outputId": "80395686-34cd-4518-eda6-64d513ba9693"
      },
      "source": [
        "pip install geopandas"
      ],
      "execution_count": 1,
      "outputs": [
        {
          "output_type": "stream",
          "text": [
            "Collecting geopandas\n",
            "\u001b[?25l  Downloading https://files.pythonhosted.org/packages/f7/a4/e66aafbefcbb717813bf3a355c8c4fc3ed04ea1dd7feb2920f2f4f868921/geopandas-0.8.1-py2.py3-none-any.whl (962kB)\n",
            "\u001b[K     |████████████████████████████████| 972kB 3.3MB/s \n",
            "\u001b[?25hRequirement already satisfied: pandas>=0.23.0 in /usr/local/lib/python3.6/dist-packages (from geopandas) (1.0.5)\n",
            "Collecting pyproj>=2.2.0\n",
            "\u001b[?25l  Downloading https://files.pythonhosted.org/packages/e5/c3/071e080230ac4b6c64f1a2e2f9161c9737a2bc7b683d2c90b024825000c0/pyproj-2.6.1.post1-cp36-cp36m-manylinux2010_x86_64.whl (10.9MB)\n",
            "\u001b[K     |████████████████████████████████| 10.9MB 17.1MB/s \n",
            "\u001b[?25hCollecting fiona\n",
            "\u001b[?25l  Downloading https://files.pythonhosted.org/packages/36/8b/e8b2c11bed5373c8e98edb85ce891b09aa1f4210fd451d0fb3696b7695a2/Fiona-1.8.17-cp36-cp36m-manylinux1_x86_64.whl (14.8MB)\n",
            "\u001b[K     |████████████████████████████████| 14.8MB 311kB/s \n",
            "\u001b[?25hRequirement already satisfied: shapely in /usr/local/lib/python3.6/dist-packages (from geopandas) (1.7.1)\n",
            "Requirement already satisfied: python-dateutil>=2.6.1 in /usr/local/lib/python3.6/dist-packages (from pandas>=0.23.0->geopandas) (2.8.1)\n",
            "Requirement already satisfied: pytz>=2017.2 in /usr/local/lib/python3.6/dist-packages (from pandas>=0.23.0->geopandas) (2018.9)\n",
            "Requirement already satisfied: numpy>=1.13.3 in /usr/local/lib/python3.6/dist-packages (from pandas>=0.23.0->geopandas) (1.18.5)\n",
            "Requirement already satisfied: attrs>=17 in /usr/local/lib/python3.6/dist-packages (from fiona->geopandas) (20.2.0)\n",
            "Collecting cligj>=0.5\n",
            "  Downloading https://files.pythonhosted.org/packages/e4/be/30a58b4b0733850280d01f8bd132591b4668ed5c7046761098d665ac2174/cligj-0.5.0-py3-none-any.whl\n",
            "Collecting click-plugins>=1.0\n",
            "  Downloading https://files.pythonhosted.org/packages/e9/da/824b92d9942f4e472702488857914bdd50f73021efea15b4cad9aca8ecef/click_plugins-1.1.1-py2.py3-none-any.whl\n",
            "Requirement already satisfied: six>=1.7 in /usr/local/lib/python3.6/dist-packages (from fiona->geopandas) (1.15.0)\n",
            "Requirement already satisfied: click<8,>=4.0 in /usr/local/lib/python3.6/dist-packages (from fiona->geopandas) (7.1.2)\n",
            "Collecting munch\n",
            "  Downloading https://files.pythonhosted.org/packages/cc/ab/85d8da5c9a45e072301beb37ad7f833cd344e04c817d97e0cc75681d248f/munch-2.5.0-py2.py3-none-any.whl\n",
            "Installing collected packages: pyproj, cligj, click-plugins, munch, fiona, geopandas\n",
            "Successfully installed click-plugins-1.1.1 cligj-0.5.0 fiona-1.8.17 geopandas-0.8.1 munch-2.5.0 pyproj-2.6.1.post1\n"
          ],
          "name": "stdout"
        }
      ]
    },
    {
      "cell_type": "code",
      "metadata": {
        "id": "ZouGAmZxEJcV",
        "colab_type": "code",
        "colab": {}
      },
      "source": [
        "import pandas as pd\n",
        "import geopandas as gpd\n",
        "import numpy as np\n",
        "import math as m\n",
        "import matplotlib.pyplot as plt"
      ],
      "execution_count": 2,
      "outputs": []
    },
    {
      "cell_type": "markdown",
      "metadata": {
        "id": "JoAf_dn3T0Pq",
        "colab_type": "text"
      },
      "source": [
        "---\n",
        "# The boundary coordinate data\n",
        "The input data consists of the longitude and latitude coordinates of over 608 points along the border of the park, given in clockwise order, and stored in a .csv file.\n",
        "\n",
        "The data was compiled by Dani Ploeger and can be found [here](https://github.com/arputtick/geographic_centers/raw/master/Bialowieza-coordinates.csv)."
      ]
    },
    {
      "cell_type": "code",
      "metadata": {
        "id": "a9DqauwbEWQg",
        "colab_type": "code",
        "colab": {
          "base_uri": "https://localhost:8080/",
          "height": 479
        },
        "outputId": "5d9e0477-8300-477b-863a-ae68b1203ef3"
      },
      "source": [
        "## Load the data from the project's github repo.\n",
        "data_url = 'https://github.com/arputtick/geographic_centers/raw/master/Bialowieza-coordinates.csv'\n",
        "\n",
        "boundary_data = pd.read_csv(data_url)\n",
        "boundary_data.head(5)"
      ],
      "execution_count": 3,
      "outputs": [
        {
          "output_type": "execute_result",
          "data": {
            "text/html": [
              "<div>\n",
              "<style scoped>\n",
              "    .dataframe tbody tr th:only-of-type {\n",
              "        vertical-align: middle;\n",
              "    }\n",
              "\n",
              "    .dataframe tbody tr th {\n",
              "        vertical-align: top;\n",
              "    }\n",
              "\n",
              "    .dataframe thead th {\n",
              "        text-align: right;\n",
              "    }\n",
              "</style>\n",
              "<table border=\"1\" class=\"dataframe\">\n",
              "  <thead>\n",
              "    <tr style=\"text-align: right;\">\n",
              "      <th></th>\n",
              "      <th>shapeid</th>\n",
              "      <th>partid</th>\n",
              "      <th>x</th>\n",
              "      <th>y</th>\n",
              "      <th>WDPAID</th>\n",
              "      <th>WDPA_PID</th>\n",
              "      <th>PA_DEF</th>\n",
              "      <th>NAME</th>\n",
              "      <th>ORIG_NAME</th>\n",
              "      <th>DESIG</th>\n",
              "      <th>DESIG_ENG</th>\n",
              "      <th>DESIG_TYPE</th>\n",
              "      <th>IUCN_CAT</th>\n",
              "      <th>INT_CRIT</th>\n",
              "      <th>MARINE</th>\n",
              "      <th>REP_M_AREA</th>\n",
              "      <th>GIS_M_AREA</th>\n",
              "      <th>REP_AREA</th>\n",
              "      <th>GIS_AREA</th>\n",
              "      <th>NO_TAKE</th>\n",
              "      <th>NO_TK_AREA</th>\n",
              "      <th>STATUS</th>\n",
              "      <th>STATUS_YR</th>\n",
              "      <th>GOV_TYPE</th>\n",
              "      <th>OWN_TYPE</th>\n",
              "      <th>MANG_AUTH</th>\n",
              "      <th>MANG_PLAN</th>\n",
              "      <th>VERIF</th>\n",
              "      <th>METADATAID</th>\n",
              "      <th>SUB_LOC</th>\n",
              "      <th>PARENT_ISO</th>\n",
              "      <th>ISO3</th>\n",
              "      <th>vertex_index</th>\n",
              "      <th>vertex_part</th>\n",
              "      <th>vertex_part_ring</th>\n",
              "      <th>vertex_part_index</th>\n",
              "      <th>distance</th>\n",
              "      <th>angle</th>\n",
              "    </tr>\n",
              "  </thead>\n",
              "  <tbody>\n",
              "    <tr>\n",
              "      <th>0</th>\n",
              "      <td>0</td>\n",
              "      <td>NaN</td>\n",
              "      <td>23.909080</td>\n",
              "      <td>52.722164</td>\n",
              "      <td>854.0</td>\n",
              "      <td>854</td>\n",
              "      <td>1</td>\n",
              "      <td>Białowieski Park Narodowy</td>\n",
              "      <td>Białowieski Park Narodowy</td>\n",
              "      <td>Park Narodowy</td>\n",
              "      <td>National Park</td>\n",
              "      <td>National</td>\n",
              "      <td>II</td>\n",
              "      <td>Not Applicable</td>\n",
              "      <td>0</td>\n",
              "      <td>0.0</td>\n",
              "      <td>0.0</td>\n",
              "      <td>105.2931</td>\n",
              "      <td>104.974307</td>\n",
              "      <td>Not Applicable</td>\n",
              "      <td>0.0</td>\n",
              "      <td>Designated</td>\n",
              "      <td>1932</td>\n",
              "      <td>Federal or national ministry or agency</td>\n",
              "      <td>Not Reported</td>\n",
              "      <td>Not Reported</td>\n",
              "      <td>Not Reported</td>\n",
              "      <td>State Verified</td>\n",
              "      <td>1839</td>\n",
              "      <td>Not Reported</td>\n",
              "      <td>POL</td>\n",
              "      <td>POL</td>\n",
              "      <td>171</td>\n",
              "      <td>3</td>\n",
              "      <td>0</td>\n",
              "      <td>0</td>\n",
              "      <td>0.184376</td>\n",
              "      <td>258.388085</td>\n",
              "    </tr>\n",
              "    <tr>\n",
              "      <th>1</th>\n",
              "      <td>1</td>\n",
              "      <td>NaN</td>\n",
              "      <td>23.908281</td>\n",
              "      <td>52.722000</td>\n",
              "      <td>854.0</td>\n",
              "      <td>854</td>\n",
              "      <td>1</td>\n",
              "      <td>Białowieski Park Narodowy</td>\n",
              "      <td>Białowieski Park Narodowy</td>\n",
              "      <td>Park Narodowy</td>\n",
              "      <td>National Park</td>\n",
              "      <td>National</td>\n",
              "      <td>II</td>\n",
              "      <td>Not Applicable</td>\n",
              "      <td>0</td>\n",
              "      <td>0.0</td>\n",
              "      <td>0.0</td>\n",
              "      <td>105.2931</td>\n",
              "      <td>104.974307</td>\n",
              "      <td>Not Applicable</td>\n",
              "      <td>0.0</td>\n",
              "      <td>Designated</td>\n",
              "      <td>1932</td>\n",
              "      <td>Federal or national ministry or agency</td>\n",
              "      <td>Not Reported</td>\n",
              "      <td>Not Reported</td>\n",
              "      <td>Not Reported</td>\n",
              "      <td>State Verified</td>\n",
              "      <td>1839</td>\n",
              "      <td>Not Reported</td>\n",
              "      <td>POL</td>\n",
              "      <td>POL</td>\n",
              "      <td>172</td>\n",
              "      <td>3</td>\n",
              "      <td>0</td>\n",
              "      <td>1</td>\n",
              "      <td>0.185192</td>\n",
              "      <td>258.719830</td>\n",
              "    </tr>\n",
              "    <tr>\n",
              "      <th>2</th>\n",
              "      <td>2</td>\n",
              "      <td>NaN</td>\n",
              "      <td>23.907534</td>\n",
              "      <td>52.721855</td>\n",
              "      <td>854.0</td>\n",
              "      <td>854</td>\n",
              "      <td>1</td>\n",
              "      <td>Białowieski Park Narodowy</td>\n",
              "      <td>Białowieski Park Narodowy</td>\n",
              "      <td>Park Narodowy</td>\n",
              "      <td>National Park</td>\n",
              "      <td>National</td>\n",
              "      <td>II</td>\n",
              "      <td>Not Applicable</td>\n",
              "      <td>0</td>\n",
              "      <td>0.0</td>\n",
              "      <td>0.0</td>\n",
              "      <td>105.2931</td>\n",
              "      <td>104.974307</td>\n",
              "      <td>Not Applicable</td>\n",
              "      <td>0.0</td>\n",
              "      <td>Designated</td>\n",
              "      <td>1932</td>\n",
              "      <td>Federal or national ministry or agency</td>\n",
              "      <td>Not Reported</td>\n",
              "      <td>Not Reported</td>\n",
              "      <td>Not Reported</td>\n",
              "      <td>State Verified</td>\n",
              "      <td>1839</td>\n",
              "      <td>Not Reported</td>\n",
              "      <td>POL</td>\n",
              "      <td>POL</td>\n",
              "      <td>173</td>\n",
              "      <td>3</td>\n",
              "      <td>0</td>\n",
              "      <td>2</td>\n",
              "      <td>0.185953</td>\n",
              "      <td>259.155866</td>\n",
              "    </tr>\n",
              "    <tr>\n",
              "      <th>3</th>\n",
              "      <td>3</td>\n",
              "      <td>NaN</td>\n",
              "      <td>23.907122</td>\n",
              "      <td>52.721777</td>\n",
              "      <td>854.0</td>\n",
              "      <td>854</td>\n",
              "      <td>1</td>\n",
              "      <td>Białowieski Park Narodowy</td>\n",
              "      <td>Białowieski Park Narodowy</td>\n",
              "      <td>Park Narodowy</td>\n",
              "      <td>National Park</td>\n",
              "      <td>National</td>\n",
              "      <td>II</td>\n",
              "      <td>Not Applicable</td>\n",
              "      <td>0</td>\n",
              "      <td>0.0</td>\n",
              "      <td>0.0</td>\n",
              "      <td>105.2931</td>\n",
              "      <td>104.974307</td>\n",
              "      <td>Not Applicable</td>\n",
              "      <td>0.0</td>\n",
              "      <td>Designated</td>\n",
              "      <td>1932</td>\n",
              "      <td>Federal or national ministry or agency</td>\n",
              "      <td>Not Reported</td>\n",
              "      <td>Not Reported</td>\n",
              "      <td>Not Reported</td>\n",
              "      <td>State Verified</td>\n",
              "      <td>1839</td>\n",
              "      <td>Not Reported</td>\n",
              "      <td>POL</td>\n",
              "      <td>POL</td>\n",
              "      <td>174</td>\n",
              "      <td>3</td>\n",
              "      <td>0</td>\n",
              "      <td>3</td>\n",
              "      <td>0.186371</td>\n",
              "      <td>259.259457</td>\n",
              "    </tr>\n",
              "    <tr>\n",
              "      <th>4</th>\n",
              "      <td>4</td>\n",
              "      <td>NaN</td>\n",
              "      <td>23.907048</td>\n",
              "      <td>52.721763</td>\n",
              "      <td>854.0</td>\n",
              "      <td>854</td>\n",
              "      <td>1</td>\n",
              "      <td>Białowieski Park Narodowy</td>\n",
              "      <td>Białowieski Park Narodowy</td>\n",
              "      <td>Park Narodowy</td>\n",
              "      <td>National Park</td>\n",
              "      <td>National</td>\n",
              "      <td>II</td>\n",
              "      <td>Not Applicable</td>\n",
              "      <td>0</td>\n",
              "      <td>0.0</td>\n",
              "      <td>0.0</td>\n",
              "      <td>105.2931</td>\n",
              "      <td>104.974307</td>\n",
              "      <td>Not Applicable</td>\n",
              "      <td>0.0</td>\n",
              "      <td>Designated</td>\n",
              "      <td>1932</td>\n",
              "      <td>Federal or national ministry or agency</td>\n",
              "      <td>Not Reported</td>\n",
              "      <td>Not Reported</td>\n",
              "      <td>Not Reported</td>\n",
              "      <td>State Verified</td>\n",
              "      <td>1839</td>\n",
              "      <td>Not Reported</td>\n",
              "      <td>POL</td>\n",
              "      <td>POL</td>\n",
              "      <td>175</td>\n",
              "      <td>3</td>\n",
              "      <td>0</td>\n",
              "      <td>4</td>\n",
              "      <td>0.186447</td>\n",
              "      <td>259.257610</td>\n",
              "    </tr>\n",
              "  </tbody>\n",
              "</table>\n",
              "</div>"
            ],
            "text/plain": [
              "   shapeid  partid          x  ...  vertex_part_index  distance       angle\n",
              "0        0     NaN  23.909080  ...                  0  0.184376  258.388085\n",
              "1        1     NaN  23.908281  ...                  1  0.185192  258.719830\n",
              "2        2     NaN  23.907534  ...                  2  0.185953  259.155866\n",
              "3        3     NaN  23.907122  ...                  3  0.186371  259.259457\n",
              "4        4     NaN  23.907048  ...                  4  0.186447  259.257610\n",
              "\n",
              "[5 rows x 38 columns]"
            ]
          },
          "metadata": {
            "tags": []
          },
          "execution_count": 3
        }
      ]
    },
    {
      "cell_type": "markdown",
      "metadata": {
        "id": "IQRqTwkTVLq9",
        "colab_type": "text"
      },
      "source": [
        "The 'x' column consists of longitude coordinates and the 'y' column of latitude coordinates."
      ]
    },
    {
      "cell_type": "code",
      "metadata": {
        "id": "c5GrPaO_EoA-",
        "colab_type": "code",
        "colab": {
          "base_uri": "https://localhost:8080/",
          "height": 204
        },
        "outputId": "4819aac9-f70b-4dfc-8e28-d60e541a9de8"
      },
      "source": [
        "## Extract the longitude and latitude columns.\n",
        "boundary_points = boundary_data[['x', 'y']]\n",
        "boundary_points.head(5)"
      ],
      "execution_count": 10,
      "outputs": [
        {
          "output_type": "execute_result",
          "data": {
            "text/html": [
              "<div>\n",
              "<style scoped>\n",
              "    .dataframe tbody tr th:only-of-type {\n",
              "        vertical-align: middle;\n",
              "    }\n",
              "\n",
              "    .dataframe tbody tr th {\n",
              "        vertical-align: top;\n",
              "    }\n",
              "\n",
              "    .dataframe thead th {\n",
              "        text-align: right;\n",
              "    }\n",
              "</style>\n",
              "<table border=\"1\" class=\"dataframe\">\n",
              "  <thead>\n",
              "    <tr style=\"text-align: right;\">\n",
              "      <th></th>\n",
              "      <th>x</th>\n",
              "      <th>y</th>\n",
              "    </tr>\n",
              "  </thead>\n",
              "  <tbody>\n",
              "    <tr>\n",
              "      <th>0</th>\n",
              "      <td>23.909080</td>\n",
              "      <td>52.722164</td>\n",
              "    </tr>\n",
              "    <tr>\n",
              "      <th>1</th>\n",
              "      <td>23.908281</td>\n",
              "      <td>52.722000</td>\n",
              "    </tr>\n",
              "    <tr>\n",
              "      <th>2</th>\n",
              "      <td>23.907534</td>\n",
              "      <td>52.721855</td>\n",
              "    </tr>\n",
              "    <tr>\n",
              "      <th>3</th>\n",
              "      <td>23.907122</td>\n",
              "      <td>52.721777</td>\n",
              "    </tr>\n",
              "    <tr>\n",
              "      <th>4</th>\n",
              "      <td>23.907048</td>\n",
              "      <td>52.721763</td>\n",
              "    </tr>\n",
              "  </tbody>\n",
              "</table>\n",
              "</div>"
            ],
            "text/plain": [
              "           x          y\n",
              "0  23.909080  52.722164\n",
              "1  23.908281  52.722000\n",
              "2  23.907534  52.721855\n",
              "3  23.907122  52.721777\n",
              "4  23.907048  52.721763"
            ]
          },
          "metadata": {
            "tags": []
          },
          "execution_count": 10
        }
      ]
    },
    {
      "cell_type": "markdown",
      "metadata": {
        "id": "cC50K7VFahgk",
        "colab_type": "text"
      },
      "source": [
        "## Visualizing the data\n",
        "We can use the GeoPandas library to plot the data onto a map of the park. The map data was downloaded from [protected planet](https://www.protectedplanet.net/bialowieski-park-narodowy-national-park?fbclid=IwAR3T4x6XKiKiD4IBJdcX-SVobAKZrHIYu5ktDAMcBGSJU4w_77rGFbaCsaY) and can also be found the project GitHub repo.\n"
      ]
    },
    {
      "cell_type": "code",
      "metadata": {
        "id": "FUsH814lIPpF",
        "colab_type": "code",
        "colab": {}
      },
      "source": [
        "## Locations of map data files (there are 3 and they have to be merged).\n",
        "url_1 = 'https://github.com/arputtick/geographic_centers/raw/master/WDPA_WDOECM_protected_area_854-shapefile0.zip'\n",
        "url_2 = 'https://github.com/arputtick/geographic_centers/raw/master/WDPA_WDOECM_protected_area_854-shapefile1.zip'\n",
        "url_3 = 'https://github.com/arputtick/geographic_centers/raw/master/WDPA_WDOECM_protected_area_854-shapefile2.zip'"
      ],
      "execution_count": 14,
      "outputs": []
    },
    {
      "cell_type": "code",
      "metadata": {
        "id": "BuZPiNiIIzPC",
        "colab_type": "code",
        "colab": {}
      },
      "source": [
        "## Load the map data into the notebook.\n",
        "gdf1 = gpd.read_file(url_1)\n",
        "gdf2 = gpd.read_file(url_2)\n",
        "gdf3 = gpd.read_file(url_3)\n",
        "\n",
        "## Merge the three files into a single GeoDataFrame.\n",
        "gdf = gpd.GeoDataFrame(pd.concat([gdf1, gdf2, gdf3]))"
      ],
      "execution_count": 15,
      "outputs": []
    },
    {
      "cell_type": "code",
      "metadata": {
        "id": "9jSPe-hTI1Xw",
        "colab_type": "code",
        "colab": {
          "base_uri": "https://localhost:8080/",
          "height": 282
        },
        "outputId": "6148a536-10fe-4e51-bd05-1daa034e9ed6"
      },
      "source": [
        "## Plot the map data and boundary point data (the latter is represented\n",
        "## by a red line connecting the points from the data table).\n",
        "map = gdf.plot()\n",
        "map.plot(boundary_points['x'], boundary_points['y'], c = 'red')"
      ],
      "execution_count": 16,
      "outputs": [
        {
          "output_type": "execute_result",
          "data": {
            "text/plain": [
              "[<matplotlib.lines.Line2D at 0x7fb8ddfc8e48>]"
            ]
          },
          "metadata": {
            "tags": []
          },
          "execution_count": 16
        },
        {
          "output_type": "display_data",
          "data": {
            "image/png": "[encoded data removed]",
            "text/plain": [
              "<Figure size 432x288 with 1 Axes>"
            ]
          },
          "metadata": {
            "tags": [],
            "needs_background": "light"
          }
        }
      ]
    },
    {
      "cell_type": "markdown",
      "metadata": {
        "id": "NLFuC-CndJE2",
        "colab_type": "text"
      },
      "source": [
        "**Note:** As can be seen in the image, our computation ignores the small disconnected landmasses outside of the main park area."
      ]
    },
    {
      "cell_type": "markdown",
      "metadata": {
        "id": "f6k0hicuVfFv",
        "colab_type": "text"
      },
      "source": [
        "## Converting from degrees to radians\n",
        "Since the math library sine and cosine functions take radians (on a 0-$2\\pi$ scale) as input instead of degrees (on a 0-360$^\\circ$ scale), we have to convert the longitudes and latitudes to radians."
      ]
    },
    {
      "cell_type": "code",
      "metadata": {
        "id": "ZeV7FMUiE0Mn",
        "colab_type": "code",
        "colab": {}
      },
      "source": [
        "## Convert longitude and latitude to radians.\n",
        "x_rads = boundary_points['x'] * 1/360 * 2 * m.pi\n",
        "y_rads = boundary_points['y'] * 1/360 * 2 * m.pi"
      ],
      "execution_count": 11,
      "outputs": []
    },
    {
      "cell_type": "markdown",
      "metadata": {
        "id": "b8upOUcQWFlD",
        "colab_type": "text"
      },
      "source": [
        "---\n",
        "# Algorithm for Computing the Geographic Center\n",
        "\n",
        "The algorithm is composed of the following steps (which we will describe in further detail as they are carried out).\n",
        "\n",
        "1. Make an initial guess $(\\phi_0,\\gamma_0)$ for the longitude $\\phi_0$ and latitude $\\gamma_0$ of the geographic center.\n",
        "\n",
        "2. Compute the image of each of the boundary points under the *Azimuthal Equidistant Projection* centered at the point $(\\phi_0,\\gamma_0)$. This projects the shape from the surface of the sphere onto a two-dimensional plane in a way that \"preserves distances.\"\n",
        "\n",
        "3. Compute the center point $(x_c, y_c)$ of the projected flat 2D polygon.\n",
        "\n",
        "4. Compute the longitude and latitude $(\\phi_c, \\gamma_c)$ corresponding to $(x_c,y_c).$\n",
        "\n",
        "5. Repeat with $(\\phi_0,\\gamma_0) = (\\phi_c,\\gamma_c)$.\n",
        "\n",
        "The algorithm converges to $(\\phi_{cent},\\gamma_{cent})$, the longitutde-latitude coordinates of the geographic center.\n",
        "\n",
        "\n"
      ]
    },
    {
      "cell_type": "markdown",
      "metadata": {
        "id": "G36r5KhXY0uT",
        "colab_type": "text"
      },
      "source": [
        "---\n",
        "## 1. Make an initial guess  $(𝜙_0,𝛾_0)$  for the longitude  $𝜙_0$  and latitude  $𝛾_0$  of the geographic center.\n",
        "\n",
        "A simple way to make our initial guess is to draw the smallest rectangle (bounding box) containing the park and choose $(\\phi_0,\\gamma_0)$ to be the coordinates of the center of the rectangle."
      ]
    },
    {
      "cell_type": "code",
      "metadata": {
        "id": "7CWZkMG1E8M4",
        "colab_type": "code",
        "colab": {
          "base_uri": "https://localhost:8080/",
          "height": 34
        },
        "outputId": "f80be507-76e1-4b9d-dd12-2760567b0e51"
      },
      "source": [
        "## Find the coordinates of the corners of the bounding box\n",
        "## by find the maximum and minimum longitudes resp. latitudes\n",
        "## occuring amongst the boundary points.\n",
        "BBox = (x_rads.min(),x_rads.max(),y_rads.min(),y_rads.max())\n",
        "\n",
        "## Initialize phi and gamma at center of the bounding box.\n",
        "phi = np.mean([BBox[0],BBox[1]])\n",
        "gamma = np.mean([BBox[2],BBox[3]])\n",
        "\n",
        "print(phi,gamma)"
      ],
      "execution_count": 12,
      "outputs": [
        {
          "output_type": "stream",
          "text": [
            "0.4165162875836439 0.9208566077009757\n"
          ],
          "name": "stdout"
        }
      ]
    },
    {
      "cell_type": "code",
      "metadata": {
        "id": "Dlmf-yFIpAmE",
        "colab_type": "code",
        "colab": {
          "base_uri": "https://localhost:8080/",
          "height": 282
        },
        "outputId": "9ea5a597-f806-4332-bd8b-ff4fea230dbf"
      },
      "source": [
        "## Visualize the inital guess on the map\n",
        "phi_deg = phi * 360 / (2 * m.pi)\n",
        "gamma_deg = gamma * 360 / (2 * m.pi)\n",
        "\n",
        "map = gdf.plot()\n",
        "map.scatter(phi_deg,gamma_deg, c = 'red')"
      ],
      "execution_count": 25,
      "outputs": [
        {
          "output_type": "execute_result",
          "data": {
            "text/plain": [
              "<matplotlib.collections.PathCollection at 0x7fb8dabde5f8>"
            ]
          },
          "metadata": {
            "tags": []
          },
          "execution_count": 25
        },
        {
          "output_type": "display_data",
          "data": {
            "image/png": "[encoded data removed]",
            "text/plain": [
              "<Figure size 432x288 with 1 Axes>"
            ]
          },
          "metadata": {
            "tags": [],
            "needs_background": "light"
          }
        }
      ]
    },
    {
      "cell_type": "markdown",
      "metadata": {
        "id": "KrOBv0adpvIp",
        "colab_type": "text"
      },
      "source": [
        "Since the park is pretty close to rectangular, this is already a good guess."
      ]
    },
    {
      "cell_type": "markdown",
      "metadata": {
        "id": "a8nIg_ZpiQJt",
        "colab_type": "text"
      },
      "source": [
        "---\n",
        "\n",
        "## 2. Compute the image of each of the boundary points under the Azimuthal Equidistant Projection centered at the point  $(𝜙_0,𝛾_0)$.\n",
        "\n",
        "For details about the Azimuthal Equidistant Projection (AEP), see [2]. The AEP requires a center point $p_0 =(\\phi_0,\\gamma_0)$ in longitude-latitude coordinates. It is a map from the sphere to the flat plane\n",
        "$$P\\colon S\\setminus\\{\\overline{p_0}\\}\\to \\mathbb{R}^2,$$\n",
        "where $S$ denotes the sphere and $\\overline{p_0}$ is the point on the opposite end of the sphere from $p_0$.\n",
        "\n",
        "It satisfies $P(p_0) = (0,0)$. For another point $p = (\\phi,\\gamma)$ on the sphere, the image $P(p)\\in\\mathbb{R}^2$ satisfies the property that the distance between $P(p)$ and $(0,0)$ in $\\mathbb{R}^2$ is equal to the distance between $p$ and $p_0$ on the sphere surface.\n",
        "\n",
        "Explicitly, for $(\\phi,\\gamma)\\in S\\setminus\\{\\overline{p}\\}$, the image $P(\\phi,\\gamma) = (x,y)$ is given by:\n",
        "\n",
        "$$x = -k \\cos(\\phi)\\sin(\\gamma - \\gamma_0),$$\n",
        "\n",
        "$$y = k\\big[\\cos(\\phi_0)\\sin(\\phi) -\\sin(\\phi_0)\\cos(\\phi)\\cos(\\gamma -\\gamma_0)\\big],$$\n",
        "\n",
        "where $k = c/\\sin(c),$ with\n",
        "$$c = \\cos^{-1}\\big(\\sin(\\phi_0)\\sin(\\phi) + \\cos(\\phi_0)\\cos(\\phi)\\cos(\\gamma-\\gamma_0)\\big).$$\n",
        "\n",
        "**Note:** This equations in [1] are not correctly written. See [2] for the correct equations. We also add a minus sign in the equation for $x$ so that the projection has the same orientation as the original shape. Without this the algorithm diverges.\n",
        "\n",
        "The code to computer the AEP of the boundary points is given by:"
      ]
    },
    {
      "cell_type": "code",
      "metadata": {
        "id": "hj_VKt0Tnkpo",
        "colab_type": "code",
        "colab": {}
      },
      "source": [
        "## Compute azimuthal equidistant projection of boundary points.\n",
        "\n",
        "proj_points = [] # initialize list of projected points (x,y)\n",
        "\n",
        "for bd_point in zip(x_rads,y_rads):\n",
        "    cos_c = m.sin(phi) * m.sin(bd_point[0]) + m.cos(phi) * m.cos(bd_point[0]) * m.cos(bd_point[1] - gamma)\n",
        "    c = m.acos(cos_c)\n",
        "    k = c/m.sin(c)\n",
        "    x = (-k) * m.cos(phi) * m.sin(gamma - bd_point[1])\n",
        "    y = k * (m.cos(phi) * m.sin(bd_point[0]) - m.sin(phi) * m.cos(bd_point[0]) * m.cos(gamma - bd_point[1]))\n",
        "    proj_points.append([x,y]) # add image of boundary point to the list"
      ],
      "execution_count": 20,
      "outputs": []
    },
    {
      "cell_type": "markdown",
      "metadata": {
        "id": "x9kSCjCLoNT2",
        "colab_type": "text"
      },
      "source": [
        "We can visualize the image of the boundary points on the flat plane as follows:"
      ]
    },
    {
      "cell_type": "code",
      "metadata": {
        "id": "hTiCwGq3oaW0",
        "colab_type": "code",
        "colab": {
          "base_uri": "https://localhost:8080/",
          "height": 285
        },
        "outputId": "2c686a7f-6ca9-4ca0-f2bd-41ca0341c33f"
      },
      "source": [
        "## Plot the image of the boundary points under AEP\n",
        "\n",
        "x, y = zip(*proj_points)\n",
        "x = np.array(x)\n",
        "y = np.array(y)\n",
        "plt.plot(y,x)"
      ],
      "execution_count": 22,
      "outputs": [
        {
          "output_type": "execute_result",
          "data": {
            "text/plain": [
              "[<matplotlib.lines.Line2D at 0x7fb8dae5e828>]"
            ]
          },
          "metadata": {
            "tags": []
          },
          "execution_count": 22
        },
        {
          "output_type": "display_data",
          "data": {
            "image/png": "[encoded data removed]",
            "text/plain": [
              "<Figure size 432x288 with 1 Axes>"
            ]
          },
          "metadata": {
            "tags": [],
            "needs_background": "light"
          }
        }
      ]
    },
    {
      "cell_type": "markdown",
      "metadata": {
        "id": "7VBF8iCnp9-J",
        "colab_type": "text"
      },
      "source": [
        "---\n",
        "## 3. Compute the center point $(x_c,y_c)$ of the projected flat 2D polygon\n",
        "\n",
        "The formula for computing the center $(x_c, y_c)$ of the polygon is [1] given by:\n",
        "\n",
        "$$x_c = \\frac{1}{6A}\\Big[\\sum_{i=0}^{n-1}(x_i + x_{i+1})(x_{i}y_{i+1}-x_{i+1}y_i)\\Big],$$\n",
        "\n",
        "$$y_c = \\frac{1}{6A}\\Big[\\sum_{i=0}^{n-1}(y_i + y_{i+1})(x_{i}y_{i+1}-x_{i+1}y_i)\\Big],$$\n",
        "\n",
        "where $A$ is the area of the polygon, given by:\n",
        "$$A = \\frac{1}{2}\\Big[\\sum_{i=0}^{n-1}(x_{i}y_{i+1}-x_{i+1}y_i)\\Big].$$\n"
      ]
    },
    {
      "cell_type": "code",
      "metadata": {
        "id": "2YCLNgsVrfSM",
        "colab_type": "code",
        "colab": {}
      },
      "source": [
        "## Compute the center of the projected polygon\n",
        "n = len(proj_points)\n",
        "\n",
        "area_terms = []\n",
        "x_terms = []\n",
        "y_terms = []\n",
        "for i in range(n-1):\n",
        "    area_term = x[i] * y[i+1] - x[i+1] * y[i]\n",
        "    area_terms.append(area_term)\n",
        "\n",
        "    x_term = (x[i] + x[i+1]) * area_term\n",
        "    y_term = (y[i] + y[i+1]) * area_term\n",
        "\n",
        "    x_terms.append(x_term)\n",
        "    y_terms.append(y_term)\n",
        "\n",
        "area = 0.5 * np.sum(area_terms)\n",
        "x_cent = np.sum(x_terms) / (6 * area)\n",
        "y_cent = np.sum(y_terms) / (6 * area)"
      ],
      "execution_count": 26,
      "outputs": []
    },
    {
      "cell_type": "code",
      "metadata": {
        "id": "E2gJkziZrp1R",
        "colab_type": "code",
        "colab": {
          "base_uri": "https://localhost:8080/",
          "height": 285
        },
        "outputId": "133c385f-4d7a-4306-85a6-131ea8cc9b38"
      },
      "source": [
        "## Plot the computed center point (blue) as well as the\n",
        "## initial guess (red).\n",
        "\n",
        "plt.plot(y,x)\n",
        "plt.scatter(0,0, c = 'red') # initial guess\n",
        "plt.scatter(y_cent, x_cent, c = 'blue') # actual center of polygon"
      ],
      "execution_count": 28,
      "outputs": [
        {
          "output_type": "execute_result",
          "data": {
            "text/plain": [
              "<matplotlib.collections.PathCollection at 0x7fb8db43ea20>"
            ]
          },
          "metadata": {
            "tags": []
          },
          "execution_count": 28
        },
        {
          "output_type": "display_data",
          "data": {
            "image/png": "[encoded data removed]",
            "text/plain": [
              "<Figure size 432x288 with 1 Axes>"
            ]
          },
          "metadata": {
            "tags": [],
            "needs_background": "light"
          }
        }
      ]
    },
    {
      "cell_type": "markdown",
      "metadata": {
        "id": "ZG_G7EUJsMIZ",
        "colab_type": "text"
      },
      "source": [
        "---\n",
        "## 4. Compute the longitude and latitude  $(𝜙_c,𝛾_c)$  corresponding to  $(𝑥_c,𝑦_c)$.\n",
        "\n",
        "We now have to do the AEP in reverse to find the longitude-latitude coordinates corresponding to the center we found in the previous step.\n",
        "\n",
        "For $(x,y)\\in\\mathbb{R}^2\\setminus \\{(0,0)\\}$, the inverse $(\\phi,\\gamma) = P^{-1}(x,y)$ on the sphere is given by:\n",
        "$$\\phi = \\sin^{-1}\\big(\\cos(\\rho) \\sin(\\phi_0) + (y\\sin(\\rho) \\cos(\\phi_0)/\\rho)\\big),$$\n",
        "\n",
        "$$\\gamma = \\gamma_0 + \\tan^{-1}\\Big(\\frac{x\\sin(\\rho)}{\\rho\\cos(\\phi_0)\\cos(\\rho)-y\\sin(\\phi_0)\\sin(\\rho)}\\Big),$$\n",
        "\n",
        "where\n",
        "$$\\rho = \\sqrt{x^2 + y^2}.$$\n"
      ]
    },
    {
      "cell_type": "code",
      "metadata": {
        "id": "p3BE-wX1vYbc",
        "colab_type": "code",
        "colab": {}
      },
      "source": [
        "## Project the center point back to the sphere surface\n",
        "\n",
        "rho = (x_cent**2 + y_cent**2)**(1/2)\n",
        "\n",
        "# longitude of new center\n",
        "phi_new = m.asin(m.cos(rho) * m.sin(phi) + (y_cent * m.sin(rho) * m.cos(phi)/rho))\n",
        "# QUESTION: Should rho be inside or outside the cos at the end?\n",
        "\n",
        "# latitude of new center\n",
        "denom = rho * m.cos(phi) * m.cos(rho) - y_cent * m.sin(phi) * m.sin(rho)\n",
        "numer = x_cent * m.sin(rho)\n",
        "diff = m.atan(numer/denom)\n",
        "gamma_new = gamma  + diff"
      ],
      "execution_count": 31,
      "outputs": []
    },
    {
      "cell_type": "code",
      "metadata": {
        "id": "FcyUWo-ivkkQ",
        "colab_type": "code",
        "colab": {
          "base_uri": "https://localhost:8080/",
          "height": 282
        },
        "outputId": "2b381d57-4968-4e8e-bb24-492f1c53119d"
      },
      "source": [
        "## Visualize on the map red = initial guess, blue = new guess\n",
        "map = gdf.plot()\n",
        "map.scatter(phi_deg,gamma_deg, c = 'red')\n",
        "\n",
        "phi_new_deg = phi_new * 360 / (2 * m.pi)\n",
        "gamma_new_deg = gamma_new * 360 / (2 * m.pi)\n",
        "map.scatter(phi_new_deg, gamma_new_deg, c = 'blue')\n"
      ],
      "execution_count": 32,
      "outputs": [
        {
          "output_type": "execute_result",
          "data": {
            "text/plain": [
              "<matplotlib.collections.PathCollection at 0x7fb8dadfc470>"
            ]
          },
          "metadata": {
            "tags": []
          },
          "execution_count": 32
        },
        {
          "output_type": "display_data",
          "data": {
            "image/png": "[encoded data removed]",
            "text/plain": [
              "<Figure size 432x288 with 1 Axes>"
            ]
          },
          "metadata": {
            "tags": [],
            "needs_background": "light"
          }
        }
      ]
    },
    {
      "cell_type": "markdown",
      "metadata": {
        "id": "nvS4UTtOwbbP",
        "colab_type": "text"
      },
      "source": [
        "---\n",
        "## 5. Repeat with $(\\phi_0,\\gamma_0) = (\\phi_c,\\gamma_c)$.\n",
        "\n",
        "We now put everything together and iterate the above process until convergence to the geographic center. In this case convergence occurs quickly, but we run the code for 1000 iterations."
      ]
    },
    {
      "cell_type": "code",
      "metadata": {
        "id": "VOEROeSmFOr6",
        "colab_type": "code",
        "colab": {
          "base_uri": "https://localhost:8080/",
          "height": 34
        },
        "outputId": "3d3ddbff-b587-48ba-b7c1-d5283fce72c7"
      },
      "source": [
        "### Code for entire algorithm from start to finish\n",
        "\n",
        "\n",
        "## Find the coordinates of the corners of the bounding box.\n",
        "BBox = (x_rads.min(),x_rads.max(),y_rads.min(),y_rads.max())\n",
        "\n",
        "## Initialize phi and gamma at center of the bounding box.\n",
        "phi = np.mean([BBox[0],BBox[1]])\n",
        "gamma = np.mean([BBox[2],BBox[3]])\n",
        "\n",
        "\n",
        "## Start of loop.\n",
        "\n",
        "# List keeping track of center points\n",
        "centers = [[phi,gamma]]\n",
        "num_iter = 1000\n",
        "for iter in range(num_iter):\n",
        "    # Compute azimuthal equidistant projection of boundary points\n",
        "    proj_points = []\n",
        "    for bd_point in zip(x_rads,y_rads):\n",
        "        cos_c = m.sin(phi) * m.sin(bd_point[0]) + m.cos(phi) * m.cos(bd_point[0]) * m.cos(bd_point[1] - gamma)\n",
        "        c = m.acos(cos_c)\n",
        "        k = c/m.sin(c)\n",
        "        x = k * m.cos(phi) * m.sin(gamma - bd_point[1])\n",
        "        y = k * (m.cos(phi) * m.sin(bd_point[0]) - m.sin(phi) * m.cos(bd_point[0]) * m.cos(gamma - bd_point[1]))\n",
        "        proj_points.append([x,y])\n",
        "\n",
        "    # Compute the center of the projected polygon\n",
        "    n = len(proj_points)\n",
        "    x, y = zip(*proj_points)\n",
        "    x = np.array(x)\n",
        "    y = np.array(y)\n",
        "    area_terms = []\n",
        "    x_terms = []\n",
        "    y_terms = []\n",
        "    for i in range(n-1):\n",
        "        area_term = x[i] * y[i+1] - x[i+1] * y[i]\n",
        "        area_terms.append(area_term)\n",
        "\n",
        "        x_term = (x[i] + x[i+1]) * area_term\n",
        "        y_term = (y[i] + y[i+1]) * area_term\n",
        "\n",
        "        x_terms.append(x_term)\n",
        "        y_terms.append(y_term)\n",
        "\n",
        "    area = 0.5 * np.sum(area_terms)\n",
        "    x_cent = np.sum(x_terms) / (6 * area)\n",
        "    y_cent = np.sum(y_terms) / (6 * area)\n",
        "\n",
        "    # Project the center point back to the sphere surface\n",
        "    rho = (x_cent**2 + y_cent**2)**(1/2)\n",
        "\n",
        "    # longitude of new center\n",
        "    phi_new = m.asin(m.cos(rho) * m.sin(phi) + (y_cent * m.sin(rho) * m.cos(phi)/rho))\n",
        "\n",
        "    # latitude of new center\n",
        "    denom = rho * m.cos(phi) * m.cos(rho) - y_cent * m.sin(phi) * m.sin(rho)\n",
        "    numer = -x_cent * m.sin(rho)\n",
        "    diff = m.atan(numer/denom)\n",
        "    gamma_new = gamma  + diff\n",
        "\n",
        "    centers.append([phi_new, gamma_new])\n",
        "\n",
        "    phi = phi_new\n",
        "    gamma = gamma_new\n",
        "\n",
        "phi_cent, gamma_cent = centers[num_iter-1]\n",
        "phi_cent_deg = phi_cent * 360 / (2 * m.pi)\n",
        "gamma_cent_deg = gamma_cent * 360 / (2 * m.pi)\n",
        "print('Longitude and Latitude of Geographical Center:', phi_cent_deg, gamma_cent_deg)"
      ],
      "execution_count": 35,
      "outputs": [
        {
          "output_type": "stream",
          "text": [
            "Longitude and Latitude of Geographical Center: 23.868965936536874 52.76620509652369\n"
          ],
          "name": "stdout"
        }
      ]
    },
    {
      "cell_type": "code",
      "metadata": {
        "id": "H8rBlVugx8CA",
        "colab_type": "code",
        "colab": {
          "base_uri": "https://localhost:8080/",
          "height": 282
        },
        "outputId": "bb0ba215-37b5-4a28-9efc-b95e549b41d2"
      },
      "source": [
        "## Visualize intial guess (red) and geographical center (blue)\n",
        "map = gdf.plot()\n",
        "map.scatter(phi_deg,gamma_deg, c = 'red')\n",
        "map.scatter(phi_cent_deg, gamma_cent_deg, c = 'blue')"
      ],
      "execution_count": 36,
      "outputs": [
        {
          "output_type": "execute_result",
          "data": {
            "text/plain": [
              "<matplotlib.collections.PathCollection at 0x7fb8da856710>"
            ]
          },
          "metadata": {
            "tags": []
          },
          "execution_count": 36
        },
        {
          "output_type": "display_data",
          "data": {
            "image/png": "[encoded data removed]",
            "text/plain": [
              "<Figure size 432x288 with 1 Axes>"
            ]
          },
          "metadata": {
            "tags": [],
            "needs_background": "light"
          }
        }
      ]
    },
    {
      "cell_type": "markdown",
      "metadata": {
        "id": "NUjTYgLQzTkL",
        "colab_type": "text"
      },
      "source": [
        "It's almost the same as the center found after running through the algorithm for a single iteration, but it might take more iterations for a diffent landmass and depending on our initial guess."
      ]
    },
    {
      "cell_type": "markdown",
      "metadata": {
        "id": "84r96l4yRdfq",
        "colab_type": "text"
      },
      "source": [
        "---\n",
        "---\n",
        "## References\n",
        "\n",
        "[1] Rogerson, Peter A. \"A new method for finding geographic centers, with application to US States.\" The Professional Geographer 67.4 (2015): 686-694.\n",
        "\n",
        "[2] Snyder, John Parr. Map projections--A working manual. Vol. 1395. US Government Printing Office, 1987."
      ]
    },
    {
      "cell_type": "code",
      "metadata": {
        "id": "nKWElLg9RvvO",
        "colab_type": "code",
        "colab": {}
      },
      "source": [
        ""
      ],
      "execution_count": null,
      "outputs": []
    }
  ]
}